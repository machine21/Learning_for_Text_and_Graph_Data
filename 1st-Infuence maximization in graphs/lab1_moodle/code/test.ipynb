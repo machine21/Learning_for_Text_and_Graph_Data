{
 "cells": [
  {
   "cell_type": "code",
   "execution_count": 1,
   "metadata": {
    "collapsed": true
   },
   "outputs": [],
   "source": [
    "base_dir=\"./lab1_data/SingleSpreaders/sir\""
   ]
  },
  {
   "cell_type": "code",
   "execution_count": 2,
   "metadata": {
    "collapsed": true
   },
   "outputs": [],
   "source": [
    "groups=['groupA','groupB','groupC']\n",
    "scenarios=['scenario1','scenario2','scenario3']\n",
    "results_task1a='./result/task1a.txt'\n",
    "results_task1b='./result/task1b.txt'\n",
    "results_task2='./result/task2.pdf'"
   ]
  },
  {
   "cell_type": "code",
   "execution_count": 3,
   "metadata": {
    "collapsed": true
   },
   "outputs": [],
   "source": [
    "import networkx as nx\n",
    "import os, os.path\n",
    "import numpy as np\n",
    "import operator\n",
    "import re\n",
    "from prettytable import *\n",
    "import matplotlib.pyplot as plt"
   ]
  },
  {
   "cell_type": "code",
   "execution_count": 4,
   "metadata": {
    "collapsed": true
   },
   "outputs": [],
   "source": [
    "## get last line of a file ##\n",
    "def get_last_line(node_file):\n",
    "\n",
    "    with open(node_file) as f:\n",
    "\n",
    "        last = None\n",
    "\n",
    "        for last in (line for line in f if line.rstrip('\\n')):\n",
    "            pass\n",
    "    return last\n",
    "\n",
    "## get directory needed ##\n",
    "def get_directory_needed(base_dir, scenario, group):\n",
    "\n",
    "    dirs=[x[0] for x in os.walk(base_dir)]\n",
    "    for directory in dirs:\n",
    "        if ((scenario in directory) and (group in directory)):\n",
    "            return directory\n",
    "\n",
    "## process all files in directory and get the max timestep achieved##\n",
    "def get_max_timestep_and_length_of_group(dir):\n",
    "\n",
    "    count=0\n",
    "    last_line=0\n",
    "\n",
    "    for file in os.listdir(dir):\n",
    "\n",
    "        ## get only .txt files ##\n",
    "        if file.endswith(\".txt\"):\n",
    "\n",
    "            ## get only last line of files and extract first colummn##\n",
    "            temp=get_last_line(dir+'/'+file)\n",
    "            temp.rstrip()\n",
    "            last_line_array=temp.split(' ')\n",
    "            timestep=int(last_line_array[0])\n",
    "            ## retain the maximum number of timesteps achieved in the group ##\n",
    "            if int(timestep)> int(last_line):\n",
    "\n",
    "                last_line=timestep\n",
    "\n",
    "        count+=1\n",
    "\n",
    "    return last_line, count\n",
    "\n",
    "## process each txt file, store the column of results needed for each node and get the average behavior of the group ##\n",
    "def get_average_behavior_of_group(dir,column_needed):\n",
    "    max_timestep,group_length=get_max_timestep_and_length_of_group(dir)\n",
    "\n",
    "    m=int(group_length)\n",
    "    n=max_timestep+1\n",
    "    nodes_results=np.asfarray([[0 for x in range(n)] for y in range(m)])\n",
    "\n",
    "    m=0\n",
    "    for file in os.listdir(dir):\n",
    "\n",
    "        ## get only .txt files ##\n",
    "        if file.endswith(\".txt\"):\n",
    "\n",
    "            with open(dir+'/'+file, \"r\") as ins:\n",
    "                n=0\n",
    "                for line in ins:\n",
    "                    line.rstrip()\n",
    "                    temp=line.split(' ')\n",
    "                    nodes_results[m,n]=temp[int(column_needed)]\n",
    "                    n+=1\n",
    "        m+=1\n",
    "\n",
    "    # average every column of the array #\n",
    "    average_behavior_of_nodes=nodes_results.mean(axis=0)\n",
    "    return average_behavior_of_nodes"
   ]
  },
  {
   "cell_type": "code",
   "execution_count": 5,
   "metadata": {
    "collapsed": true
   },
   "outputs": [],
   "source": [
    "## process each txt file, store the cumulative number of nodes being influenced at the end of the process for each node of the group ##\n",
    "## (which occurs at a different timestep for every node) and get the average cumulative influence of the group ##\n",
    "def get_average_cumulative_influence_of_group(dir,column_needed):\n",
    "\n",
    "    max_timestep, group_length=get_max_timestep_and_length_of_group(dir)\n",
    "\n",
    "    node_cumulative_influence=[]\n",
    "\n",
    "    for file in os.listdir(dir):\n",
    "\n",
    "        ## get only .txt files ##\n",
    "        if file.endswith(\".txt\"):\n",
    "\n",
    "            ## Hint: use the get_last_line function to get the last line the file\n",
    "            ## and get the value needed from the correct column.\n",
    "\n",
    "            ###################\n",
    "            #                 #\n",
    "            # YOUR CODE HERE  #\n",
    "            #                 #\n",
    "            ###################\n",
    "\n",
    "            line = get_last_line(dir+'/'+file)\n",
    "            line.rsplit()\n",
    "            temp = line.split(' ')\n",
    "            total_inf = temp[column_needed]\n",
    "\n",
    "            node_cumulative_influence.append(float(total_inf))\n",
    "\n",
    "    return ( sum(node_cumulative_influence) / float(len(node_cumulative_influence)) )"
   ]
  },
  {
   "cell_type": "code",
   "execution_count": 6,
   "metadata": {
    "collapsed": true
   },
   "outputs": [],
   "source": [
    "## find min length of process duration for plotting purposes ##\n",
    "def reformulate_results(results,min_length):\n",
    "    for key,value in results.items():\n",
    "\n",
    "        if len(value)<min_length:\n",
    "\n",
    "            min_length=len(value)\n",
    "\n",
    "    for key,value in results.items():\n",
    "\n",
    "        value=value[:min_length]\n",
    "        results[key]=value\n",
    "\n",
    "    return results"
   ]
  },
  {
   "cell_type": "code",
   "execution_count": 7,
   "metadata": {
    "collapsed": true
   },
   "outputs": [],
   "source": [
    "## plot table of results ##\n",
    "def plot_table_of_results(results,results_length,results_file,option):\n",
    "\n",
    "    if (option=='all'):\n",
    "        headers=list(range(0,results_length))\n",
    "        headers= ['groups'] + headers\n",
    "    elif (option=='total'):\n",
    "\n",
    "        headers='Total Influence'\n",
    "        headers= ['groups'] + [headers]\n",
    "\n",
    "    t=PrettyTable(headers)\n",
    "\n",
    "    if (option=='all'):\n",
    "        row=[]\n",
    "        for key,value in results.items():\n",
    "\n",
    "            key=str(key)\n",
    "            row= [key] + list(value)\n",
    "            t.add_row(row)\n",
    "    elif (option=='total'):\n",
    "        row=[]\n",
    "        for key,value in results.items():\n",
    "\n",
    "            key=str(key)\n",
    "            row= [key] + [value]\n",
    "            t.add_row(row)\n",
    "\n",
    "\n",
    "    f=open(results_file,'w')\n",
    "    sys.stdout = f\n",
    "    print (t)\n",
    "    sys.stdout.close()\n",
    "    sys.stdout = open(\"/dev/stdout\", \"w\")\n",
    "    f.close()"
   ]
  },
  {
   "cell_type": "code",
   "execution_count": 8,
   "metadata": {
    "collapsed": true
   },
   "outputs": [],
   "source": [
    "## plot results ##\n",
    "def plot_results(results,results_length,results_file):\n",
    "\n",
    "    t = np.arange(0., results_length, 1.0)\n",
    "\n",
    "    plt.plot(t, results['scenario1'], 'ro--', label='scenario1')\n",
    "    plt.plot(t, results['scenario2'], 'bs--', label='scenario2')\n",
    "    plt.plot(t, results['scenario3'], 'g^--', label='scenario3')\n",
    "    plt.legend(loc='upper right')\n",
    "    plt.xlabel('Timesteps')\n",
    "    plt.ylabel('Influence')\n",
    "\n",
    "    plt.savefig(results_file)\n",
    "\n",
    "    plt.close()"
   ]
  },
  {
   "cell_type": "code",
   "execution_count": 10,
   "metadata": {
    "collapsed": true
   },
   "outputs": [],
   "source": [
    "for group in groups:\n",
    "\n",
    "    dir = get_directory_needed(base_dir, 'scenario1', group)"
   ]
  },
  {
   "cell_type": "code",
   "execution_count": 11,
   "metadata": {
    "collapsed": false
   },
   "outputs": [
    {
     "ename": "TypeError",
     "evalue": "coercing to Unicode: need string or buffer, NoneType found",
     "output_type": "error",
     "traceback": [
      "\u001b[0;31m---------------------------------------------------------------------------\u001b[0m",
      "\u001b[0;31mTypeError\u001b[0m                                 Traceback (most recent call last)",
      "\u001b[0;32m<ipython-input-11-07fdbed81f79>\u001b[0m in \u001b[0;36m<module>\u001b[0;34m()\u001b[0m\n\u001b[0;32m----> 1\u001b[0;31m \u001b[0maverage_behavoir_of_group\u001b[0m \u001b[0;34m=\u001b[0m \u001b[0mget_average_behavior_of_group\u001b[0m\u001b[0;34m(\u001b[0m\u001b[0mdir\u001b[0m\u001b[0;34m,\u001b[0m \u001b[0;36m1\u001b[0m\u001b[0;34m)\u001b[0m\u001b[0;34m\u001b[0m\u001b[0m\n\u001b[0m",
      "\u001b[0;32m<ipython-input-4-934d090ea764>\u001b[0m in \u001b[0;36mget_average_behavior_of_group\u001b[0;34m(dir, column_needed)\u001b[0m\n\u001b[1;32m     45\u001b[0m \u001b[0;31m## process each txt file, store the column of results needed for each node and get the average behavior of the group ##\u001b[0m\u001b[0;34m\u001b[0m\u001b[0;34m\u001b[0m\u001b[0m\n\u001b[1;32m     46\u001b[0m \u001b[0;32mdef\u001b[0m \u001b[0mget_average_behavior_of_group\u001b[0m\u001b[0;34m(\u001b[0m\u001b[0mdir\u001b[0m\u001b[0;34m,\u001b[0m\u001b[0mcolumn_needed\u001b[0m\u001b[0;34m)\u001b[0m\u001b[0;34m:\u001b[0m\u001b[0;34m\u001b[0m\u001b[0m\n\u001b[0;32m---> 47\u001b[0;31m     \u001b[0mmax_timestep\u001b[0m\u001b[0;34m,\u001b[0m\u001b[0mgroup_length\u001b[0m\u001b[0;34m=\u001b[0m\u001b[0mget_max_timestep_and_length_of_group\u001b[0m\u001b[0;34m(\u001b[0m\u001b[0mdir\u001b[0m\u001b[0;34m)\u001b[0m\u001b[0;34m\u001b[0m\u001b[0m\n\u001b[0m\u001b[1;32m     48\u001b[0m \u001b[0;34m\u001b[0m\u001b[0m\n\u001b[1;32m     49\u001b[0m     \u001b[0mm\u001b[0m\u001b[0;34m=\u001b[0m\u001b[0mint\u001b[0m\u001b[0;34m(\u001b[0m\u001b[0mgroup_length\u001b[0m\u001b[0;34m)\u001b[0m\u001b[0;34m\u001b[0m\u001b[0m\n",
      "\u001b[0;32m<ipython-input-4-934d090ea764>\u001b[0m in \u001b[0;36mget_max_timestep_and_length_of_group\u001b[0;34m(dir)\u001b[0m\n\u001b[1;32m     24\u001b[0m     \u001b[0mlast_line\u001b[0m\u001b[0;34m=\u001b[0m\u001b[0;36m0\u001b[0m\u001b[0;34m\u001b[0m\u001b[0m\n\u001b[1;32m     25\u001b[0m \u001b[0;34m\u001b[0m\u001b[0m\n\u001b[0;32m---> 26\u001b[0;31m     \u001b[0;32mfor\u001b[0m \u001b[0mfile\u001b[0m \u001b[0;32min\u001b[0m \u001b[0mos\u001b[0m\u001b[0;34m.\u001b[0m\u001b[0mlistdir\u001b[0m\u001b[0;34m(\u001b[0m\u001b[0mdir\u001b[0m\u001b[0;34m)\u001b[0m\u001b[0;34m:\u001b[0m\u001b[0;34m\u001b[0m\u001b[0m\n\u001b[0m\u001b[1;32m     27\u001b[0m \u001b[0;34m\u001b[0m\u001b[0m\n\u001b[1;32m     28\u001b[0m         \u001b[0;31m## get only .txt files ##\u001b[0m\u001b[0;34m\u001b[0m\u001b[0;34m\u001b[0m\u001b[0m\n",
      "\u001b[0;31mTypeError\u001b[0m: coercing to Unicode: need string or buffer, NoneType found"
     ]
    }
   ],
   "source": [
    "    average_behavoir_of_group = get_average_behavior_of_group(dir, 1)"
   ]
  },
  {
   "cell_type": "code",
   "execution_count": 12,
   "metadata": {
    "collapsed": false
   },
   "outputs": [
    {
     "name": "stdout",
     "output_type": "stream",
     "text": [
      "None\n"
     ]
    }
   ],
   "source": [
    "    print dir"
   ]
  },
  {
   "cell_type": "code",
   "execution_count": 13,
   "metadata": {
    "collapsed": false
   },
   "outputs": [
    {
     "name": "stdout",
     "output_type": "stream",
     "text": [
      "./lab1_data/SingleSpreaders/sir\n"
     ]
    }
   ],
   "source": [
    "print base_dir"
   ]
  },
  {
   "cell_type": "code",
   "execution_count": 15,
   "metadata": {
    "collapsed": true
   },
   "outputs": [],
   "source": [
    "dir = get_directory_needed(\"./lab1_data/SingleSpreaders/sir\", 'scenario1', 'groupA')"
   ]
  },
  {
   "cell_type": "code",
   "execution_count": 16,
   "metadata": {
    "collapsed": false
   },
   "outputs": [
    {
     "name": "stdout",
     "output_type": "stream",
     "text": [
      "None\n"
     ]
    }
   ],
   "source": [
    "print dir"
   ]
  },
  {
   "cell_type": "code",
   "execution_count": 19,
   "metadata": {
    "collapsed": true
   },
   "outputs": [],
   "source": [
    "dirs=[x[0] for x in os.walk(\"../lab1_data/SingleSpreaders/sir\")]"
   ]
  },
  {
   "cell_type": "code",
   "execution_count": 20,
   "metadata": {
    "collapsed": false
   },
   "outputs": [
    {
     "name": "stdout",
     "output_type": "stream",
     "text": [
      "['../lab1_data/SingleSpreaders/sir', '../lab1_data/SingleSpreaders/sir/scenario1', '../lab1_data/SingleSpreaders/sir/scenario1/groupA', '../lab1_data/SingleSpreaders/sir/scenario1/groupB', '../lab1_data/SingleSpreaders/sir/scenario1/groupC', '../lab1_data/SingleSpreaders/sir/scenario2', '../lab1_data/SingleSpreaders/sir/scenario2/groupC', '../lab1_data/SingleSpreaders/sir/scenario3', '../lab1_data/SingleSpreaders/sir/scenario3/groupC']\n"
     ]
    }
   ],
   "source": [
    "print dirs"
   ]
  },
  {
   "cell_type": "code",
   "execution_count": 24,
   "metadata": {
    "collapsed": false
   },
   "outputs": [
    {
     "name": "stdout",
     "output_type": "stream",
     "text": [
      "../lab1_data/SingleSpreaders/sir\n",
      "../lab1_data/SingleSpreaders/sir/scenario1\n",
      "../lab1_data/SingleSpreaders/sir/scenario1/groupA\n",
      "../lab1_data/SingleSpreaders/sir/scenario1/groupB\n",
      "../lab1_data/SingleSpreaders/sir/scenario1/groupC\n",
      "../lab1_data/SingleSpreaders/sir/scenario2\n",
      "../lab1_data/SingleSpreaders/sir/scenario2/groupC\n",
      "../lab1_data/SingleSpreaders/sir/scenario3\n",
      "../lab1_data/SingleSpreaders/sir/scenario3/groupC\n"
     ]
    }
   ],
   "source": [
    "for x in os.walk(\"../lab1_data/SingleSpreaders/sir\"):\n",
    "    print x[0]"
   ]
  },
  {
   "cell_type": "code",
   "execution_count": 23,
   "metadata": {
    "collapsed": false
   },
   "outputs": [
    {
     "name": "stdout",
     "output_type": "stream",
     "text": [
      "../lab1_data/SingleSpreaders/sir\n",
      "../lab1_data/SingleSpreaders/sir/scenario1\n",
      "../lab1_data/SingleSpreaders/sir/scenario1/groupA\n",
      "../lab1_data/SingleSpreaders/sir/scenario1/groupB\n",
      "../lab1_data/SingleSpreaders/sir/scenario1/groupC\n",
      "../lab1_data/SingleSpreaders/sir/scenario2\n",
      "../lab1_data/SingleSpreaders/sir/scenario2/groupC\n",
      "../lab1_data/SingleSpreaders/sir/scenario3\n",
      "../lab1_data/SingleSpreaders/sir/scenario3/groupC\n"
     ]
    }
   ],
   "source": [
    "for root, dirs, files in os.walk(\"../lab1_data/SingleSpreaders/sir\"):\n",
    "    print root"
   ]
  },
  {
   "cell_type": "code",
   "execution_count": 25,
   "metadata": {
    "collapsed": true
   },
   "outputs": [],
   "source": [
    "dirs=[root for root, dirs, files in os.walk(\"../lab1_data/SingleSpreaders/sir\")]"
   ]
  },
  {
   "cell_type": "code",
   "execution_count": 26,
   "metadata": {
    "collapsed": false
   },
   "outputs": [
    {
     "name": "stdout",
     "output_type": "stream",
     "text": [
      "['../lab1_data/SingleSpreaders/sir', '../lab1_data/SingleSpreaders/sir/scenario1', '../lab1_data/SingleSpreaders/sir/scenario1/groupA', '../lab1_data/SingleSpreaders/sir/scenario1/groupB', '../lab1_data/SingleSpreaders/sir/scenario1/groupC', '../lab1_data/SingleSpreaders/sir/scenario2', '../lab1_data/SingleSpreaders/sir/scenario2/groupC', '../lab1_data/SingleSpreaders/sir/scenario3', '../lab1_data/SingleSpreaders/sir/scenario3/groupC']\n"
     ]
    }
   ],
   "source": [
    "print dirs"
   ]
  },
  {
   "cell_type": "code",
   "execution_count": null,
   "metadata": {
    "collapsed": true
   },
   "outputs": [],
   "source": []
  }
 ],
 "metadata": {
  "anaconda-cloud": {},
  "kernelspec": {
   "display_name": "Python 2",
   "language": "python",
   "name": "python2"
  },
  "language_info": {
   "codemirror_mode": {
    "name": "ipython",
    "version": 2
   },
   "file_extension": ".py",
   "mimetype": "text/x-python",
   "name": "python",
   "nbconvert_exporter": "python",
   "pygments_lexer": "ipython2",
   "version": "2.7.12"
  }
 },
 "nbformat": 4,
 "nbformat_minor": 1
}
